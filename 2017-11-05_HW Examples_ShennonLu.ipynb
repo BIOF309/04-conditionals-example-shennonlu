{
 "cells": [
  {
   "cell_type": "code",
   "execution_count": 1,
   "metadata": {
    "collapsed": true
   },
   "outputs": [],
   "source": [
    "# List of heights in a class\n",
    "heights = [1.63, 1.50, 1.89, 1.74, 1.45, 1.95, 1.52, 1.73, 1.74]"
   ]
  },
  {
   "cell_type": "code",
   "execution_count": 2,
   "metadata": {
    "collapsed": true
   },
   "outputs": [],
   "source": [
    "#Example of function\n",
    "def average (x):\n",
    "    avg = sum(x)/len(x)\n",
    "    return avg"
   ]
  },
  {
   "cell_type": "code",
   "execution_count": 5,
   "metadata": {},
   "outputs": [],
   "source": [
    "avg = average(heights)"
   ]
  },
  {
   "cell_type": "code",
   "execution_count": 6,
   "metadata": {},
   "outputs": [
    {
     "name": "stdout",
     "output_type": "stream",
     "text": [
      "first row: 1.63\n",
      "first row: 1.5\n",
      "second row: 1.89\n",
      "second row: 1.74\n",
      "first row: 1.45\n",
      "second row: 1.95\n",
      "first row: 1.52\n",
      "second row: 1.73\n",
      "second row: 1.74\n"
     ]
    }
   ],
   "source": [
    "#example of loop and conditional\n",
    "#sort class heights to first row or second row for class picture\n",
    "for i in heights:\n",
    "    if i < avg:\n",
    "        print('first row: ' + str(i))\n",
    "    else:\n",
    "        print('second row: ' + str(i))"
   ]
  },
  {
   "cell_type": "code",
   "execution_count": null,
   "metadata": {
    "collapsed": true
   },
   "outputs": [],
   "source": []
  }
 ],
 "metadata": {
  "kernelspec": {
   "display_name": "Python 3",
   "language": "python",
   "name": "python3"
  },
  "language_info": {
   "codemirror_mode": {
    "name": "ipython",
    "version": 3
   },
   "file_extension": ".py",
   "mimetype": "text/x-python",
   "name": "python",
   "nbconvert_exporter": "python",
   "pygments_lexer": "ipython3",
   "version": "3.6.1"
  }
 },
 "nbformat": 4,
 "nbformat_minor": 2
}
